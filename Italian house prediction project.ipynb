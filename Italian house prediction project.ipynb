{
 "cells": [
  {
   "cell_type": "markdown",
   "id": "425a18ff",
   "metadata": {},
   "source": [
    "Features\n",
    "\n",
    "- Price(€)\n",
    "- Rooms\n",
    "- mq : house square meters\n",
    "- Type : house tipe, should be 1 ,2 or 3\n",
    "- Desc : the house description in Italian\n",
    "- City\n",
    "- Street"
   ]
  },
  {
   "cell_type": "code",
   "execution_count": 1,
   "id": "80bd3cd1",
   "metadata": {},
   "outputs": [],
   "source": [
    "import pandas as pd\n",
    "import numpy as np\n",
    "import matplotlib.pyplot as plt\n",
    "import seaborn as sns\n",
    "from sklearn import linear_model\n",
    "from sklearn.linear_model import LinearRegression\n",
    "from sklearn.model_selection import train_test_split"
   ]
  },
  {
   "cell_type": "code",
   "execution_count": 2,
   "id": "a172a822",
   "metadata": {},
   "outputs": [
    {
     "data": {
      "text/html": [
       "<div>\n",
       "<style scoped>\n",
       "    .dataframe tbody tr th:only-of-type {\n",
       "        vertical-align: middle;\n",
       "    }\n",
       "\n",
       "    .dataframe tbody tr th {\n",
       "        vertical-align: top;\n",
       "    }\n",
       "\n",
       "    .dataframe thead th {\n",
       "        text-align: right;\n",
       "    }\n",
       "</style>\n",
       "<table border=\"1\" class=\"dataframe\">\n",
       "  <thead>\n",
       "    <tr style=\"text-align: right;\">\n",
       "      <th></th>\n",
       "      <th>Price(€)</th>\n",
       "      <th>Rooms</th>\n",
       "      <th>mq</th>\n",
       "      <th>Type</th>\n",
       "      <th>Desc</th>\n",
       "      <th>City</th>\n",
       "      <th>Zone</th>\n",
       "      <th>Street</th>\n",
       "    </tr>\n",
       "  </thead>\n",
       "  <tbody>\n",
       "    <tr>\n",
       "      <th>0</th>\n",
       "      <td>142000.0</td>\n",
       "      <td>4</td>\n",
       "      <td>130</td>\n",
       "      <td>1</td>\n",
       "      <td>In via Ettore Vitale, strada principale del qu...</td>\n",
       "      <td>Catanzaro</td>\n",
       "      <td>Pontegrande - Sant'Elia</td>\n",
       "      <td>Via Ettore Vitale, 12</td>\n",
       "    </tr>\n",
       "    <tr>\n",
       "      <th>1</th>\n",
       "      <td>249000.0</td>\n",
       "      <td>4</td>\n",
       "      <td>108</td>\n",
       "      <td>1</td>\n",
       "      <td>Rif: PRQUAD - La Tempocasa di Cagliari San Ben...</td>\n",
       "      <td>Cagliari</td>\n",
       "      <td>San Benedetto</td>\n",
       "      <td>Via Giovan Battista Pergolesi</td>\n",
       "    </tr>\n",
       "    <tr>\n",
       "      <th>2</th>\n",
       "      <td>495000.0</td>\n",
       "      <td>5</td>\n",
       "      <td>117</td>\n",
       "      <td>2</td>\n",
       "      <td>Living Alberione: Luminoso attico collocato al...</td>\n",
       "      <td>Trento</td>\n",
       "      <td>San Pio X</td>\n",
       "      <td>via alberione</td>\n",
       "    </tr>\n",
       "    <tr>\n",
       "      <th>3</th>\n",
       "      <td>89000.0</td>\n",
       "      <td>3</td>\n",
       "      <td>93</td>\n",
       "      <td>1</td>\n",
       "      <td>Cornigliano/Coronata parte alta, Via Paradisio...</td>\n",
       "      <td>Genova</td>\n",
       "      <td>Cornigliano</td>\n",
       "      <td>Via Paradiso</td>\n",
       "    </tr>\n",
       "    <tr>\n",
       "      <th>4</th>\n",
       "      <td>495000.0</td>\n",
       "      <td>5</td>\n",
       "      <td>89</td>\n",
       "      <td>2</td>\n",
       "      <td>In Vendita Loft/Mansarda a Venezia Sestiere di...</td>\n",
       "      <td>Venezia</td>\n",
       "      <td>Arsenale - Giardini della Biennale</td>\n",
       "      <td>CASTELLO</td>\n",
       "    </tr>\n",
       "    <tr>\n",
       "      <th>...</th>\n",
       "      <td>...</td>\n",
       "      <td>...</td>\n",
       "      <td>...</td>\n",
       "      <td>...</td>\n",
       "      <td>...</td>\n",
       "      <td>...</td>\n",
       "      <td>...</td>\n",
       "      <td>...</td>\n",
       "    </tr>\n",
       "    <tr>\n",
       "      <th>15993</th>\n",
       "      <td>150000.0</td>\n",
       "      <td>4</td>\n",
       "      <td>120</td>\n",
       "      <td>1</td>\n",
       "      <td>Graziosissimo e spazioso appartamento con due ...</td>\n",
       "      <td>Torino</td>\n",
       "      <td>Madonna di Campagna</td>\n",
       "      <td>Corso Grosseto</td>\n",
       "    </tr>\n",
       "    <tr>\n",
       "      <th>15994</th>\n",
       "      <td>99000.0</td>\n",
       "      <td>3</td>\n",
       "      <td>70</td>\n",
       "      <td>1</td>\n",
       "      <td>Torino -Zona San Donato - Via Vicenza 23 - Pro...</td>\n",
       "      <td>Torino</td>\n",
       "      <td>Don Bosco</td>\n",
       "      <td>Via Vicenza</td>\n",
       "    </tr>\n",
       "    <tr>\n",
       "      <th>15995</th>\n",
       "      <td>318000.0</td>\n",
       "      <td>5</td>\n",
       "      <td>135</td>\n",
       "      <td>2</td>\n",
       "      <td>Proponiamo ampio appartamento al quarto piano,...</td>\n",
       "      <td>Torino</td>\n",
       "      <td>Pozzo Strada</td>\n",
       "      <td>Corso Trapani 40</td>\n",
       "    </tr>\n",
       "    <tr>\n",
       "      <th>15996</th>\n",
       "      <td>62000.0</td>\n",
       "      <td>3</td>\n",
       "      <td>70</td>\n",
       "      <td>1</td>\n",
       "      <td>A 500 metri dalla Via Libertà e precisamente i...</td>\n",
       "      <td>Palermo</td>\n",
       "      <td>Borgo Vecchio</td>\n",
       "      <td>Via Dalia</td>\n",
       "    </tr>\n",
       "    <tr>\n",
       "      <th>15997</th>\n",
       "      <td>1050000.0</td>\n",
       "      <td>5</td>\n",
       "      <td>180</td>\n",
       "      <td>2</td>\n",
       "      <td>Nella zona più elegante e riservata del Vomero...</td>\n",
       "      <td>Napoli</td>\n",
       "      <td>Vomero</td>\n",
       "      <td>Via Raffaele Morghen</td>\n",
       "    </tr>\n",
       "  </tbody>\n",
       "</table>\n",
       "<p>15998 rows × 8 columns</p>\n",
       "</div>"
      ],
      "text/plain": [
       "        Price(€)  Rooms   mq  Type  \\\n",
       "0       142000.0      4  130     1   \n",
       "1       249000.0      4  108     1   \n",
       "2       495000.0      5  117     2   \n",
       "3        89000.0      3   93     1   \n",
       "4       495000.0      5   89     2   \n",
       "...          ...    ...  ...   ...   \n",
       "15993   150000.0      4  120     1   \n",
       "15994    99000.0      3   70     1   \n",
       "15995   318000.0      5  135     2   \n",
       "15996    62000.0      3   70     1   \n",
       "15997  1050000.0      5  180     2   \n",
       "\n",
       "                                                    Desc       City  \\\n",
       "0      In via Ettore Vitale, strada principale del qu...  Catanzaro   \n",
       "1      Rif: PRQUAD - La Tempocasa di Cagliari San Ben...   Cagliari   \n",
       "2      Living Alberione: Luminoso attico collocato al...     Trento   \n",
       "3      Cornigliano/Coronata parte alta, Via Paradisio...     Genova   \n",
       "4      In Vendita Loft/Mansarda a Venezia Sestiere di...    Venezia   \n",
       "...                                                  ...        ...   \n",
       "15993  Graziosissimo e spazioso appartamento con due ...     Torino   \n",
       "15994  Torino -Zona San Donato - Via Vicenza 23 - Pro...     Torino   \n",
       "15995  Proponiamo ampio appartamento al quarto piano,...     Torino   \n",
       "15996  A 500 metri dalla Via Libertà e precisamente i...    Palermo   \n",
       "15997  Nella zona più elegante e riservata del Vomero...     Napoli   \n",
       "\n",
       "                                     Zone                         Street  \n",
       "0                 Pontegrande - Sant'Elia          Via Ettore Vitale, 12  \n",
       "1                           San Benedetto  Via Giovan Battista Pergolesi  \n",
       "2                               San Pio X                  via alberione  \n",
       "3                             Cornigliano                   Via Paradiso  \n",
       "4      Arsenale - Giardini della Biennale                       CASTELLO  \n",
       "...                                   ...                            ...  \n",
       "15993                 Madonna di Campagna                 Corso Grosseto  \n",
       "15994                           Don Bosco                    Via Vicenza  \n",
       "15995                        Pozzo Strada              Corso Trapani 40   \n",
       "15996                       Borgo Vecchio                      Via Dalia  \n",
       "15997                              Vomero           Via Raffaele Morghen  \n",
       "\n",
       "[15998 rows x 8 columns]"
      ]
     },
     "execution_count": 2,
     "metadata": {},
     "output_type": "execute_result"
    }
   ],
   "source": [
    "df = pd.read_csv(r\"C:\\Users\\admin\\Desktop\\AI ML\\ML\\Linear regression\\Italian_house_price.csv\")\n",
    "df"
   ]
  },
  {
   "cell_type": "code",
   "execution_count": 3,
   "id": "0cf25544",
   "metadata": {},
   "outputs": [
    {
     "data": {
      "text/html": [
       "<div>\n",
       "<style scoped>\n",
       "    .dataframe tbody tr th:only-of-type {\n",
       "        vertical-align: middle;\n",
       "    }\n",
       "\n",
       "    .dataframe tbody tr th {\n",
       "        vertical-align: top;\n",
       "    }\n",
       "\n",
       "    .dataframe thead th {\n",
       "        text-align: right;\n",
       "    }\n",
       "</style>\n",
       "<table border=\"1\" class=\"dataframe\">\n",
       "  <thead>\n",
       "    <tr style=\"text-align: right;\">\n",
       "      <th></th>\n",
       "      <th>Price(€)</th>\n",
       "      <th>Rooms</th>\n",
       "      <th>mq</th>\n",
       "      <th>Type</th>\n",
       "    </tr>\n",
       "  </thead>\n",
       "  <tbody>\n",
       "    <tr>\n",
       "      <th>count</th>\n",
       "      <td>1.599800e+04</td>\n",
       "      <td>15998.000000</td>\n",
       "      <td>15998.000000</td>\n",
       "      <td>15998.000000</td>\n",
       "    </tr>\n",
       "    <tr>\n",
       "      <th>mean</th>\n",
       "      <td>3.564216e+05</td>\n",
       "      <td>3.630891</td>\n",
       "      <td>121.178710</td>\n",
       "      <td>1.583448</td>\n",
       "    </tr>\n",
       "    <tr>\n",
       "      <th>std</th>\n",
       "      <td>4.424895e+05</td>\n",
       "      <td>1.896876</td>\n",
       "      <td>81.139571</td>\n",
       "      <td>0.680417</td>\n",
       "    </tr>\n",
       "    <tr>\n",
       "      <th>min</th>\n",
       "      <td>1.000000e+00</td>\n",
       "      <td>0.000000</td>\n",
       "      <td>1.000000</td>\n",
       "      <td>1.000000</td>\n",
       "    </tr>\n",
       "    <tr>\n",
       "      <th>25%</th>\n",
       "      <td>1.350000e+05</td>\n",
       "      <td>3.000000</td>\n",
       "      <td>75.000000</td>\n",
       "      <td>1.000000</td>\n",
       "    </tr>\n",
       "    <tr>\n",
       "      <th>50%</th>\n",
       "      <td>2.400000e+05</td>\n",
       "      <td>4.000000</td>\n",
       "      <td>101.000000</td>\n",
       "      <td>1.000000</td>\n",
       "    </tr>\n",
       "    <tr>\n",
       "      <th>75%</th>\n",
       "      <td>4.100000e+05</td>\n",
       "      <td>5.000000</td>\n",
       "      <td>140.000000</td>\n",
       "      <td>2.000000</td>\n",
       "    </tr>\n",
       "    <tr>\n",
       "      <th>max</th>\n",
       "      <td>8.200000e+06</td>\n",
       "      <td>140.000000</td>\n",
       "      <td>980.000000</td>\n",
       "      <td>3.000000</td>\n",
       "    </tr>\n",
       "  </tbody>\n",
       "</table>\n",
       "</div>"
      ],
      "text/plain": [
       "           Price(€)         Rooms            mq          Type\n",
       "count  1.599800e+04  15998.000000  15998.000000  15998.000000\n",
       "mean   3.564216e+05      3.630891    121.178710      1.583448\n",
       "std    4.424895e+05      1.896876     81.139571      0.680417\n",
       "min    1.000000e+00      0.000000      1.000000      1.000000\n",
       "25%    1.350000e+05      3.000000     75.000000      1.000000\n",
       "50%    2.400000e+05      4.000000    101.000000      1.000000\n",
       "75%    4.100000e+05      5.000000    140.000000      2.000000\n",
       "max    8.200000e+06    140.000000    980.000000      3.000000"
      ]
     },
     "execution_count": 3,
     "metadata": {},
     "output_type": "execute_result"
    }
   ],
   "source": [
    "df.describe()"
   ]
  },
  {
   "cell_type": "code",
   "execution_count": 4,
   "id": "2e942e53",
   "metadata": {},
   "outputs": [
    {
     "name": "stdout",
     "output_type": "stream",
     "text": [
      "<class 'pandas.core.frame.DataFrame'>\n",
      "RangeIndex: 15998 entries, 0 to 15997\n",
      "Data columns (total 8 columns):\n",
      " #   Column    Non-Null Count  Dtype  \n",
      "---  ------    --------------  -----  \n",
      " 0   Price(€)  15998 non-null  float64\n",
      " 1   Rooms     15998 non-null  int64  \n",
      " 2   mq        15998 non-null  int64  \n",
      " 3   Type      15998 non-null  int64  \n",
      " 4   Desc      15993 non-null  object \n",
      " 5   City      15998 non-null  object \n",
      " 6   Zone      15998 non-null  object \n",
      " 7   Street    15998 non-null  object \n",
      "dtypes: float64(1), int64(3), object(4)\n",
      "memory usage: 1000.0+ KB\n"
     ]
    }
   ],
   "source": [
    "df.info()"
   ]
  },
  {
   "cell_type": "code",
   "execution_count": 5,
   "id": "a983d4c4",
   "metadata": {},
   "outputs": [
    {
     "data": {
      "text/html": [
       "<div>\n",
       "<style scoped>\n",
       "    .dataframe tbody tr th:only-of-type {\n",
       "        vertical-align: middle;\n",
       "    }\n",
       "\n",
       "    .dataframe tbody tr th {\n",
       "        vertical-align: top;\n",
       "    }\n",
       "\n",
       "    .dataframe thead th {\n",
       "        text-align: right;\n",
       "    }\n",
       "</style>\n",
       "<table border=\"1\" class=\"dataframe\">\n",
       "  <thead>\n",
       "    <tr style=\"text-align: right;\">\n",
       "      <th></th>\n",
       "      <th>Price(€)</th>\n",
       "      <th>Rooms</th>\n",
       "      <th>mq</th>\n",
       "      <th>Type</th>\n",
       "      <th>Desc</th>\n",
       "      <th>City</th>\n",
       "      <th>Zone</th>\n",
       "      <th>Street</th>\n",
       "    </tr>\n",
       "  </thead>\n",
       "  <tbody>\n",
       "    <tr>\n",
       "      <th>3112</th>\n",
       "      <td>80000.0</td>\n",
       "      <td>3</td>\n",
       "      <td>70</td>\n",
       "      <td>1</td>\n",
       "      <td>NaN</td>\n",
       "      <td>Catanzaro</td>\n",
       "      <td>Fortuna - Corvo</td>\n",
       "      <td>Via Latina</td>\n",
       "    </tr>\n",
       "    <tr>\n",
       "      <th>7926</th>\n",
       "      <td>170000.0</td>\n",
       "      <td>1</td>\n",
       "      <td>51</td>\n",
       "      <td>1</td>\n",
       "      <td>NaN</td>\n",
       "      <td>Milano</td>\n",
       "      <td>Ponte Nuovo</td>\n",
       "      <td>Via Federico Bellazzi</td>\n",
       "    </tr>\n",
       "    <tr>\n",
       "      <th>10386</th>\n",
       "      <td>290000.0</td>\n",
       "      <td>2</td>\n",
       "      <td>80</td>\n",
       "      <td>1</td>\n",
       "      <td>NaN</td>\n",
       "      <td>Trieste</td>\n",
       "      <td>Borgo Teresiano</td>\n",
       "      <td>Via 30 Ottobre</td>\n",
       "    </tr>\n",
       "    <tr>\n",
       "      <th>15549</th>\n",
       "      <td>825000.0</td>\n",
       "      <td>3</td>\n",
       "      <td>825</td>\n",
       "      <td>1</td>\n",
       "      <td>NaN</td>\n",
       "      <td>Trieste</td>\n",
       "      <td>Chiarbola - Ponziana</td>\n",
       "      <td>Via dell'Istria</td>\n",
       "    </tr>\n",
       "    <tr>\n",
       "      <th>15599</th>\n",
       "      <td>540000.0</td>\n",
       "      <td>5</td>\n",
       "      <td>168</td>\n",
       "      <td>2</td>\n",
       "      <td>NaN</td>\n",
       "      <td>Napoli</td>\n",
       "      <td>Pigna - Omodeo</td>\n",
       "      <td>Via Guido De Ruggiero</td>\n",
       "    </tr>\n",
       "  </tbody>\n",
       "</table>\n",
       "</div>"
      ],
      "text/plain": [
       "       Price(€)  Rooms   mq  Type Desc       City                  Zone  \\\n",
       "3112    80000.0      3   70     1  NaN  Catanzaro       Fortuna - Corvo   \n",
       "7926   170000.0      1   51     1  NaN     Milano           Ponte Nuovo   \n",
       "10386  290000.0      2   80     1  NaN    Trieste       Borgo Teresiano   \n",
       "15549  825000.0      3  825     1  NaN    Trieste  Chiarbola - Ponziana   \n",
       "15599  540000.0      5  168     2  NaN     Napoli        Pigna - Omodeo   \n",
       "\n",
       "                      Street  \n",
       "3112              Via Latina  \n",
       "7926   Via Federico Bellazzi  \n",
       "10386         Via 30 Ottobre  \n",
       "15549        Via dell'Istria  \n",
       "15599  Via Guido De Ruggiero  "
      ]
     },
     "execution_count": 5,
     "metadata": {},
     "output_type": "execute_result"
    }
   ],
   "source": [
    "df[df.Desc.isna()]"
   ]
  },
  {
   "cell_type": "code",
   "execution_count": 6,
   "id": "4f37a2e9",
   "metadata": {},
   "outputs": [],
   "source": [
    "df.dropna(inplace = True)"
   ]
  },
  {
   "cell_type": "code",
   "execution_count": 7,
   "id": "f0ee350a",
   "metadata": {
    "scrolled": false
   },
   "outputs": [
    {
     "data": {
      "text/html": [
       "<div>\n",
       "<style scoped>\n",
       "    .dataframe tbody tr th:only-of-type {\n",
       "        vertical-align: middle;\n",
       "    }\n",
       "\n",
       "    .dataframe tbody tr th {\n",
       "        vertical-align: top;\n",
       "    }\n",
       "\n",
       "    .dataframe thead th {\n",
       "        text-align: right;\n",
       "    }\n",
       "</style>\n",
       "<table border=\"1\" class=\"dataframe\">\n",
       "  <thead>\n",
       "    <tr style=\"text-align: right;\">\n",
       "      <th></th>\n",
       "      <th>Price(€)</th>\n",
       "      <th>Rooms</th>\n",
       "      <th>mq</th>\n",
       "      <th>Type</th>\n",
       "      <th>Desc</th>\n",
       "      <th>City</th>\n",
       "      <th>Zone</th>\n",
       "      <th>Street</th>\n",
       "    </tr>\n",
       "  </thead>\n",
       "  <tbody>\n",
       "    <tr>\n",
       "      <th>0</th>\n",
       "      <td>142000.0</td>\n",
       "      <td>4</td>\n",
       "      <td>130</td>\n",
       "      <td>1</td>\n",
       "      <td>In via Ettore Vitale, strada principale del qu...</td>\n",
       "      <td>Catanzaro</td>\n",
       "      <td>Pontegrande - Sant'Elia</td>\n",
       "      <td>Via Ettore Vitale, 12</td>\n",
       "    </tr>\n",
       "    <tr>\n",
       "      <th>1</th>\n",
       "      <td>249000.0</td>\n",
       "      <td>4</td>\n",
       "      <td>108</td>\n",
       "      <td>1</td>\n",
       "      <td>Rif: PRQUAD - La Tempocasa di Cagliari San Ben...</td>\n",
       "      <td>Cagliari</td>\n",
       "      <td>San Benedetto</td>\n",
       "      <td>Via Giovan Battista Pergolesi</td>\n",
       "    </tr>\n",
       "    <tr>\n",
       "      <th>2</th>\n",
       "      <td>495000.0</td>\n",
       "      <td>5</td>\n",
       "      <td>117</td>\n",
       "      <td>2</td>\n",
       "      <td>Living Alberione: Luminoso attico collocato al...</td>\n",
       "      <td>Trento</td>\n",
       "      <td>San Pio X</td>\n",
       "      <td>via alberione</td>\n",
       "    </tr>\n",
       "    <tr>\n",
       "      <th>3</th>\n",
       "      <td>89000.0</td>\n",
       "      <td>3</td>\n",
       "      <td>93</td>\n",
       "      <td>1</td>\n",
       "      <td>Cornigliano/Coronata parte alta, Via Paradisio...</td>\n",
       "      <td>Genova</td>\n",
       "      <td>Cornigliano</td>\n",
       "      <td>Via Paradiso</td>\n",
       "    </tr>\n",
       "    <tr>\n",
       "      <th>4</th>\n",
       "      <td>495000.0</td>\n",
       "      <td>5</td>\n",
       "      <td>89</td>\n",
       "      <td>2</td>\n",
       "      <td>In Vendita Loft/Mansarda a Venezia Sestiere di...</td>\n",
       "      <td>Venezia</td>\n",
       "      <td>Arsenale - Giardini della Biennale</td>\n",
       "      <td>CASTELLO</td>\n",
       "    </tr>\n",
       "    <tr>\n",
       "      <th>...</th>\n",
       "      <td>...</td>\n",
       "      <td>...</td>\n",
       "      <td>...</td>\n",
       "      <td>...</td>\n",
       "      <td>...</td>\n",
       "      <td>...</td>\n",
       "      <td>...</td>\n",
       "      <td>...</td>\n",
       "    </tr>\n",
       "    <tr>\n",
       "      <th>15993</th>\n",
       "      <td>150000.0</td>\n",
       "      <td>4</td>\n",
       "      <td>120</td>\n",
       "      <td>1</td>\n",
       "      <td>Graziosissimo e spazioso appartamento con due ...</td>\n",
       "      <td>Torino</td>\n",
       "      <td>Madonna di Campagna</td>\n",
       "      <td>Corso Grosseto</td>\n",
       "    </tr>\n",
       "    <tr>\n",
       "      <th>15994</th>\n",
       "      <td>99000.0</td>\n",
       "      <td>3</td>\n",
       "      <td>70</td>\n",
       "      <td>1</td>\n",
       "      <td>Torino -Zona San Donato - Via Vicenza 23 - Pro...</td>\n",
       "      <td>Torino</td>\n",
       "      <td>Don Bosco</td>\n",
       "      <td>Via Vicenza</td>\n",
       "    </tr>\n",
       "    <tr>\n",
       "      <th>15995</th>\n",
       "      <td>318000.0</td>\n",
       "      <td>5</td>\n",
       "      <td>135</td>\n",
       "      <td>2</td>\n",
       "      <td>Proponiamo ampio appartamento al quarto piano,...</td>\n",
       "      <td>Torino</td>\n",
       "      <td>Pozzo Strada</td>\n",
       "      <td>Corso Trapani 40</td>\n",
       "    </tr>\n",
       "    <tr>\n",
       "      <th>15996</th>\n",
       "      <td>62000.0</td>\n",
       "      <td>3</td>\n",
       "      <td>70</td>\n",
       "      <td>1</td>\n",
       "      <td>A 500 metri dalla Via Libertà e precisamente i...</td>\n",
       "      <td>Palermo</td>\n",
       "      <td>Borgo Vecchio</td>\n",
       "      <td>Via Dalia</td>\n",
       "    </tr>\n",
       "    <tr>\n",
       "      <th>15997</th>\n",
       "      <td>1050000.0</td>\n",
       "      <td>5</td>\n",
       "      <td>180</td>\n",
       "      <td>2</td>\n",
       "      <td>Nella zona più elegante e riservata del Vomero...</td>\n",
       "      <td>Napoli</td>\n",
       "      <td>Vomero</td>\n",
       "      <td>Via Raffaele Morghen</td>\n",
       "    </tr>\n",
       "  </tbody>\n",
       "</table>\n",
       "<p>15993 rows × 8 columns</p>\n",
       "</div>"
      ],
      "text/plain": [
       "        Price(€)  Rooms   mq  Type  \\\n",
       "0       142000.0      4  130     1   \n",
       "1       249000.0      4  108     1   \n",
       "2       495000.0      5  117     2   \n",
       "3        89000.0      3   93     1   \n",
       "4       495000.0      5   89     2   \n",
       "...          ...    ...  ...   ...   \n",
       "15993   150000.0      4  120     1   \n",
       "15994    99000.0      3   70     1   \n",
       "15995   318000.0      5  135     2   \n",
       "15996    62000.0      3   70     1   \n",
       "15997  1050000.0      5  180     2   \n",
       "\n",
       "                                                    Desc       City  \\\n",
       "0      In via Ettore Vitale, strada principale del qu...  Catanzaro   \n",
       "1      Rif: PRQUAD - La Tempocasa di Cagliari San Ben...   Cagliari   \n",
       "2      Living Alberione: Luminoso attico collocato al...     Trento   \n",
       "3      Cornigliano/Coronata parte alta, Via Paradisio...     Genova   \n",
       "4      In Vendita Loft/Mansarda a Venezia Sestiere di...    Venezia   \n",
       "...                                                  ...        ...   \n",
       "15993  Graziosissimo e spazioso appartamento con due ...     Torino   \n",
       "15994  Torino -Zona San Donato - Via Vicenza 23 - Pro...     Torino   \n",
       "15995  Proponiamo ampio appartamento al quarto piano,...     Torino   \n",
       "15996  A 500 metri dalla Via Libertà e precisamente i...    Palermo   \n",
       "15997  Nella zona più elegante e riservata del Vomero...     Napoli   \n",
       "\n",
       "                                     Zone                         Street  \n",
       "0                 Pontegrande - Sant'Elia          Via Ettore Vitale, 12  \n",
       "1                           San Benedetto  Via Giovan Battista Pergolesi  \n",
       "2                               San Pio X                  via alberione  \n",
       "3                             Cornigliano                   Via Paradiso  \n",
       "4      Arsenale - Giardini della Biennale                       CASTELLO  \n",
       "...                                   ...                            ...  \n",
       "15993                 Madonna di Campagna                 Corso Grosseto  \n",
       "15994                           Don Bosco                    Via Vicenza  \n",
       "15995                        Pozzo Strada              Corso Trapani 40   \n",
       "15996                       Borgo Vecchio                      Via Dalia  \n",
       "15997                              Vomero           Via Raffaele Morghen  \n",
       "\n",
       "[15993 rows x 8 columns]"
      ]
     },
     "execution_count": 7,
     "metadata": {},
     "output_type": "execute_result"
    }
   ],
   "source": [
    "df"
   ]
  },
  {
   "cell_type": "code",
   "execution_count": 8,
   "id": "8d2441be",
   "metadata": {},
   "outputs": [
    {
     "name": "stderr",
     "output_type": "stream",
     "text": [
      "C:\\Users\\admin\\AppData\\Local\\Temp\\ipykernel_8448\\308358588.py:1: FutureWarning: The default value of numeric_only in DataFrame.corr is deprecated. In a future version, it will default to False. Select only valid columns or specify the value of numeric_only to silence this warning.\n",
      "  sns.heatmap(df.corr(), annot = True, cmap = \"Blues\")\n"
     ]
    },
    {
     "data": {
      "text/plain": [
       "<Axes: >"
      ]
     },
     "execution_count": 8,
     "metadata": {},
     "output_type": "execute_result"
    },
    {
     "data": {
      "image/png": "[encoded data removed]",
      "text/plain": [
       "<Figure size 640x480 with 2 Axes>"
      ]
     },
     "metadata": {},
     "output_type": "display_data"
    }
   ],
   "source": [
    "sns.heatmap(df.corr(), annot = True, cmap = \"Blues\")"
   ]
  },
  {
   "cell_type": "markdown",
   "id": "9ef972aa",
   "metadata": {},
   "source": [
    "- mq has more correlation with price\n",
    "- type has more correlation with price"
   ]
  },
  {
   "cell_type": "code",
   "execution_count": 9,
   "id": "10269f79",
   "metadata": {},
   "outputs": [
    {
     "data": {
      "text/plain": [
       "<Axes: xlabel='Type', ylabel='Price(€)'>"
      ]
     },
     "execution_count": 9,
     "metadata": {},
     "output_type": "execute_result"
    },
    {
     "data": {
      "image/png": "[encoded data removed]",
      "text/plain": [
       "<Figure size 640x480 with 1 Axes>"
      ]
     },
     "metadata": {},
     "output_type": "display_data"
    }
   ],
   "source": [
    "sns.barplot(data = df,\n",
    "               x = df['Type'],\n",
    "               y = df['Price(€)'])"
   ]
  },
  {
   "cell_type": "code",
   "execution_count": 10,
   "id": "b4121809",
   "metadata": {},
   "outputs": [
    {
     "data": {
      "text/plain": [
       "<matplotlib.collections.PathCollection at 0x22500792f80>"
      ]
     },
     "execution_count": 10,
     "metadata": {},
     "output_type": "execute_result"
    },
    {
     "data": {
      "image/png": "[encoded data removed]",
      "text/plain": [
       "<Figure size 640x480 with 1 Axes>"
      ]
     },
     "metadata": {},
     "output_type": "display_data"
    }
   ],
   "source": [
    "plt.xlabel('mq')\n",
    "plt.ylabel('Price in €')\n",
    "plt.scatter(df['Price(€)'], df['mq'])"
   ]
  },
  {
   "cell_type": "code",
   "execution_count": 11,
   "id": "abc05b95",
   "metadata": {},
   "outputs": [
    {
     "name": "stderr",
     "output_type": "stream",
     "text": [
      "C:\\Users\\admin\\AppData\\Local\\Temp\\ipykernel_8448\\1481850759.py:1: UserWarning: \n",
      "\n",
      "`distplot` is a deprecated function and will be removed in seaborn v0.14.0.\n",
      "\n",
      "Please adapt your code to use either `displot` (a figure-level function with\n",
      "similar flexibility) or `histplot` (an axes-level function for histograms).\n",
      "\n",
      "For a guide to updating your code to use the new functions, please see\n",
      "https://gist.github.com/mwaskom/de44147ed2974457ad6372750bbe5751\n",
      "\n",
      "  sns.distplot(df['Price(€)'])\n"
     ]
    },
    {
     "data": {
      "text/plain": [
       "<Axes: xlabel='Price(€)', ylabel='Density'>"
      ]
     },
     "execution_count": 11,
     "metadata": {},
     "output_type": "execute_result"
    },
    {
     "data": {
      "image/png": "[encoded data removed]",
      "text/plain": [
       "<Figure size 640x480 with 1 Axes>"
      ]
     },
     "metadata": {},
     "output_type": "display_data"
    }
   ],
   "source": [
    "sns.distplot(df['Price(€)'])"
   ]
  },
  {
   "cell_type": "code",
   "execution_count": 12,
   "id": "86883d77",
   "metadata": {},
   "outputs": [],
   "source": [
    "df.drop(columns = df[['Desc','City','Zone','Street']],\n",
    "        axis = 1, inplace = True)"
   ]
  },
  {
   "cell_type": "code",
   "execution_count": 13,
   "id": "9f98df37",
   "metadata": {},
   "outputs": [
    {
     "data": {
      "text/html": [
       "<div>\n",
       "<style scoped>\n",
       "    .dataframe tbody tr th:only-of-type {\n",
       "        vertical-align: middle;\n",
       "    }\n",
       "\n",
       "    .dataframe tbody tr th {\n",
       "        vertical-align: top;\n",
       "    }\n",
       "\n",
       "    .dataframe thead th {\n",
       "        text-align: right;\n",
       "    }\n",
       "</style>\n",
       "<table border=\"1\" class=\"dataframe\">\n",
       "  <thead>\n",
       "    <tr style=\"text-align: right;\">\n",
       "      <th></th>\n",
       "      <th>Price(€)</th>\n",
       "      <th>Rooms</th>\n",
       "      <th>mq</th>\n",
       "      <th>Type</th>\n",
       "    </tr>\n",
       "  </thead>\n",
       "  <tbody>\n",
       "    <tr>\n",
       "      <th>0</th>\n",
       "      <td>142000.0</td>\n",
       "      <td>4</td>\n",
       "      <td>130</td>\n",
       "      <td>1</td>\n",
       "    </tr>\n",
       "    <tr>\n",
       "      <th>1</th>\n",
       "      <td>249000.0</td>\n",
       "      <td>4</td>\n",
       "      <td>108</td>\n",
       "      <td>1</td>\n",
       "    </tr>\n",
       "    <tr>\n",
       "      <th>2</th>\n",
       "      <td>495000.0</td>\n",
       "      <td>5</td>\n",
       "      <td>117</td>\n",
       "      <td>2</td>\n",
       "    </tr>\n",
       "    <tr>\n",
       "      <th>3</th>\n",
       "      <td>89000.0</td>\n",
       "      <td>3</td>\n",
       "      <td>93</td>\n",
       "      <td>1</td>\n",
       "    </tr>\n",
       "    <tr>\n",
       "      <th>4</th>\n",
       "      <td>495000.0</td>\n",
       "      <td>5</td>\n",
       "      <td>89</td>\n",
       "      <td>2</td>\n",
       "    </tr>\n",
       "    <tr>\n",
       "      <th>...</th>\n",
       "      <td>...</td>\n",
       "      <td>...</td>\n",
       "      <td>...</td>\n",
       "      <td>...</td>\n",
       "    </tr>\n",
       "    <tr>\n",
       "      <th>15993</th>\n",
       "      <td>150000.0</td>\n",
       "      <td>4</td>\n",
       "      <td>120</td>\n",
       "      <td>1</td>\n",
       "    </tr>\n",
       "    <tr>\n",
       "      <th>15994</th>\n",
       "      <td>99000.0</td>\n",
       "      <td>3</td>\n",
       "      <td>70</td>\n",
       "      <td>1</td>\n",
       "    </tr>\n",
       "    <tr>\n",
       "      <th>15995</th>\n",
       "      <td>318000.0</td>\n",
       "      <td>5</td>\n",
       "      <td>135</td>\n",
       "      <td>2</td>\n",
       "    </tr>\n",
       "    <tr>\n",
       "      <th>15996</th>\n",
       "      <td>62000.0</td>\n",
       "      <td>3</td>\n",
       "      <td>70</td>\n",
       "      <td>1</td>\n",
       "    </tr>\n",
       "    <tr>\n",
       "      <th>15997</th>\n",
       "      <td>1050000.0</td>\n",
       "      <td>5</td>\n",
       "      <td>180</td>\n",
       "      <td>2</td>\n",
       "    </tr>\n",
       "  </tbody>\n",
       "</table>\n",
       "<p>15993 rows × 4 columns</p>\n",
       "</div>"
      ],
      "text/plain": [
       "        Price(€)  Rooms   mq  Type\n",
       "0       142000.0      4  130     1\n",
       "1       249000.0      4  108     1\n",
       "2       495000.0      5  117     2\n",
       "3        89000.0      3   93     1\n",
       "4       495000.0      5   89     2\n",
       "...          ...    ...  ...   ...\n",
       "15993   150000.0      4  120     1\n",
       "15994    99000.0      3   70     1\n",
       "15995   318000.0      5  135     2\n",
       "15996    62000.0      3   70     1\n",
       "15997  1050000.0      5  180     2\n",
       "\n",
       "[15993 rows x 4 columns]"
      ]
     },
     "execution_count": 13,
     "metadata": {},
     "output_type": "execute_result"
    }
   ],
   "source": [
    "df"
   ]
  },
  {
   "cell_type": "code",
   "execution_count": 14,
   "id": "dab0508a",
   "metadata": {},
   "outputs": [],
   "source": [
    "X = df[['Rooms','mq','Type']]\n",
    "y = df['Price(€)']"
   ]
  },
  {
   "cell_type": "code",
   "execution_count": 26,
   "id": "ce7be03b",
   "metadata": {},
   "outputs": [],
   "source": [
    "# Training dataset is 80%\n",
    "# Test dataset 20%\n",
    "X_train,X_test, y_train, y_test = train_test_split(X,y, test_size = 0.2, random_state = 10)"
   ]
  },
  {
   "cell_type": "code",
   "execution_count": 27,
   "id": "368326b0",
   "metadata": {},
   "outputs": [
    {
     "name": "stdout",
     "output_type": "stream",
     "text": [
      "(12794, 3)\n",
      "(3199, 3)\n",
      "(12794,)\n",
      "(3199,)\n"
     ]
    }
   ],
   "source": [
    "# Selects random samples\n",
    "print(X_train.shape)\n",
    "print(X_test.shape)\n",
    "print(y_train.shape)\n",
    "print(y_test.shape)"
   ]
  },
  {
   "cell_type": "code",
   "execution_count": 28,
   "id": "8c61707d",
   "metadata": {},
   "outputs": [
    {
     "data": {
      "text/plain": [
       "14584    101000.0\n",
       "14641    195000.0\n",
       "4337     128000.0\n",
       "6262     295000.0\n",
       "10028    230000.0\n",
       "           ...   \n",
       "11636    172000.0\n",
       "1344      90000.0\n",
       "12818    239000.0\n",
       "7294     450000.0\n",
       "1289     115000.0\n",
       "Name: Price(€), Length: 12794, dtype: float64"
      ]
     },
     "execution_count": 28,
     "metadata": {},
     "output_type": "execute_result"
    }
   ],
   "source": [
    "y_train"
   ]
  },
  {
   "cell_type": "code",
   "execution_count": 29,
   "id": "6ce246fd",
   "metadata": {
    "scrolled": true
   },
   "outputs": [
    {
     "data": {
      "text/html": [
       "<style>#sk-container-id-1 {color: black;background-color: white;}#sk-container-id-1 pre{padding: 0;}#sk-container-id-1 div.sk-toggleable {background-color: white;}#sk-container-id-1 label.sk-toggleable__label {cursor: pointer;display: block;width: 100%;margin-bottom: 0;padding: 0.3em;box-sizing: border-box;text-align: center;}#sk-container-id-1 label.sk-toggleable__label-arrow:before {content: \"▸\";float: left;margin-right: 0.25em;color: #696969;}#sk-container-id-1 label.sk-toggleable__label-arrow:hover:before {color: black;}#sk-container-id-1 div.sk-estimator:hover label.sk-toggleable__label-arrow:before {color: black;}#sk-container-id-1 div.sk-toggleable__content {max-height: 0;max-width: 0;overflow: hidden;text-align: left;background-color: #f0f8ff;}#sk-container-id-1 div.sk-toggleable__content pre {margin: 0.2em;color: black;border-radius: 0.25em;background-color: #f0f8ff;}#sk-container-id-1 input.sk-toggleable__control:checked~div.sk-toggleable__content {max-height: 200px;max-width: 100%;overflow: auto;}#sk-container-id-1 input.sk-toggleable__control:checked~label.sk-toggleable__label-arrow:before {content: \"▾\";}#sk-container-id-1 div.sk-estimator input.sk-toggleable__control:checked~label.sk-toggleable__label {background-color: #d4ebff;}#sk-container-id-1 div.sk-label input.sk-toggleable__control:checked~label.sk-toggleable__label {background-color: #d4ebff;}#sk-container-id-1 input.sk-hidden--visually {border: 0;clip: rect(1px 1px 1px 1px);clip: rect(1px, 1px, 1px, 1px);height: 1px;margin: -1px;overflow: hidden;padding: 0;position: absolute;width: 1px;}#sk-container-id-1 div.sk-estimator {font-family: monospace;background-color: #f0f8ff;border: 1px dotted black;border-radius: 0.25em;box-sizing: border-box;margin-bottom: 0.5em;}#sk-container-id-1 div.sk-estimator:hover {background-color: #d4ebff;}#sk-container-id-1 div.sk-parallel-item::after {content: \"\";width: 100%;border-bottom: 1px solid gray;flex-grow: 1;}#sk-container-id-1 div.sk-label:hover label.sk-toggleable__label {background-color: #d4ebff;}#sk-container-id-1 div.sk-serial::before {content: \"\";position: absolute;border-left: 1px solid gray;box-sizing: border-box;top: 0;bottom: 0;left: 50%;z-index: 0;}#sk-container-id-1 div.sk-serial {display: flex;flex-direction: column;align-items: center;background-color: white;padding-right: 0.2em;padding-left: 0.2em;position: relative;}#sk-container-id-1 div.sk-item {position: relative;z-index: 1;}#sk-container-id-1 div.sk-parallel {display: flex;align-items: stretch;justify-content: center;background-color: white;position: relative;}#sk-container-id-1 div.sk-item::before, #sk-container-id-1 div.sk-parallel-item::before {content: \"\";position: absolute;border-left: 1px solid gray;box-sizing: border-box;top: 0;bottom: 0;left: 50%;z-index: -1;}#sk-container-id-1 div.sk-parallel-item {display: flex;flex-direction: column;z-index: 1;position: relative;background-color: white;}#sk-container-id-1 div.sk-parallel-item:first-child::after {align-self: flex-end;width: 50%;}#sk-container-id-1 div.sk-parallel-item:last-child::after {align-self: flex-start;width: 50%;}#sk-container-id-1 div.sk-parallel-item:only-child::after {width: 0;}#sk-container-id-1 div.sk-dashed-wrapped {border: 1px dashed gray;margin: 0 0.4em 0.5em 0.4em;box-sizing: border-box;padding-bottom: 0.4em;background-color: white;}#sk-container-id-1 div.sk-label label {font-family: monospace;font-weight: bold;display: inline-block;line-height: 1.2em;}#sk-container-id-1 div.sk-label-container {text-align: center;}#sk-container-id-1 div.sk-container {/* jupyter's `normalize.less` sets `[hidden] { display: none; }` but bootstrap.min.css set `[hidden] { display: none !important; }` so we also need the `!important` here to be able to override the default hidden behavior on the sphinx rendered scikit-learn.org. See: https://github.com/scikit-learn/scikit-learn/issues/21755 */display: inline-block !important;position: relative;}#sk-container-id-1 div.sk-text-repr-fallback {display: none;}</style><div id=\"sk-container-id-1\" class=\"sk-top-container\"><div class=\"sk-text-repr-fallback\"><pre>LinearRegression()</pre><b>In a Jupyter environment, please rerun this cell to show the HTML representation or trust the notebook. <br />On GitHub, the HTML representation is unable to render, please try loading this page with nbviewer.org.</b></div><div class=\"sk-container\" hidden><div class=\"sk-item\"><div class=\"sk-estimator sk-toggleable\"><input class=\"sk-toggleable__control sk-hidden--visually\" id=\"sk-estimator-id-1\" type=\"checkbox\" checked><label for=\"sk-estimator-id-1\" class=\"sk-toggleable__label sk-toggleable__label-arrow\">LinearRegression</label><div class=\"sk-toggleable__content\"><pre>LinearRegression()</pre></div></div></div></div></div>"
      ],
      "text/plain": [
       "LinearRegression()"
      ]
     },
     "execution_count": 29,
     "metadata": {},
     "output_type": "execute_result"
    }
   ],
   "source": [
    "reg = LinearRegression()\n",
    "reg.fit(X_train, y_train)"
   ]
  },
  {
   "cell_type": "code",
   "execution_count": 34,
   "id": "7ee0dced",
   "metadata": {},
   "outputs": [],
   "source": [
    "y_pred = reg.predict(X_test)"
   ]
  },
  {
   "cell_type": "code",
   "execution_count": 35,
   "id": "14071bb7",
   "metadata": {},
   "outputs": [
    {
     "data": {
      "text/plain": [
       "array([333856.82467448, 176546.76014913, 339899.44170592, ...,\n",
       "       458737.57665754, 203645.61831881, 956820.07450778])"
      ]
     },
     "execution_count": 35,
     "metadata": {},
     "output_type": "execute_result"
    }
   ],
   "source": [
    "y_pred"
   ]
  },
  {
   "cell_type": "code",
   "execution_count": 31,
   "id": "f49c2142",
   "metadata": {},
   "outputs": [
    {
     "data": {
      "text/plain": [
       "14734      46500.0\n",
       "4304       88000.0\n",
       "11651     219000.0\n",
       "10433    1190000.0\n",
       "9386      198000.0\n",
       "           ...    \n",
       "9607      138000.0\n",
       "1002      138000.0\n",
       "9215      795000.0\n",
       "6781      300000.0\n",
       "7252      985000.0\n",
       "Name: Price(€), Length: 3199, dtype: float64"
      ]
     },
     "execution_count": 31,
     "metadata": {},
     "output_type": "execute_result"
    }
   ],
   "source": [
    "y_test"
   ]
  },
  {
   "cell_type": "code",
   "execution_count": 32,
   "id": "64bf3271",
   "metadata": {},
   "outputs": [
    {
     "data": {
      "text/plain": [
       "0.349021736999683"
      ]
     },
     "execution_count": 32,
     "metadata": {},
     "output_type": "execute_result"
    }
   ],
   "source": [
    "reg.score(X_test, y_test)"
   ]
  },
  {
   "cell_type": "code",
   "execution_count": 36,
   "id": "f43792f5",
   "metadata": {},
   "outputs": [],
   "source": [
    "from sklearn.metrics import mean_squared_error, r2_score\n",
    "mse = mean_squared_error(y_test, y_pred)\n",
    "r_squared = r2_score(y_test, y_pred)"
   ]
  },
  {
   "cell_type": "code",
   "execution_count": 38,
   "id": "4ce50f31",
   "metadata": {},
   "outputs": [
    {
     "name": "stdout",
     "output_type": "stream",
     "text": [
      "mean square error 143929031003.896\n",
      "R square value 0.349021736999683\n"
     ]
    }
   ],
   "source": [
    "print(\"mean square error {}\".format(mse))\n",
    "print(\"R square value {}\".format(r_squared))"
   ]
  },
  {
   "cell_type": "code",
   "execution_count": null,
   "id": "894935b9",
   "metadata": {},
   "outputs": [],
   "source": []
  }
 ],
 "metadata": {
  "kernelspec": {
   "display_name": "Python 3 (ipykernel)",
   "language": "python",
   "name": "python3"
  },
  "language_info": {
   "codemirror_mode": {
    "name": "ipython",
    "version": 3
   },
   "file_extension": ".py",
   "mimetype": "text/x-python",
   "name": "python",
   "nbconvert_exporter": "python",
   "pygments_lexer": "ipython3",
   "version": "3.10.9"
  }
 },
 "nbformat": 4,
 "nbformat_minor": 5
}
